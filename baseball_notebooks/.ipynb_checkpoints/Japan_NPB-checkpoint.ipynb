{
 "cells": [
  {
   "cell_type": "code",
   "execution_count": 4,
   "metadata": {
    "_cell_guid": "c37b6e89-29ee-42c6-8f20-13c33b540f7b",
    "_uuid": "3fb3d4b2-91a9-4366-969d-25adf4bcec5a"
   },
   "outputs": [
    {
     "name": "stdout",
     "output_type": "stream",
     "text": [
      "C:\\Users\\work\\Documents\\GitHub\\historica_stats\\baseball_notebooks\n"
     ]
    }
   ],
   "source": [
    "# This Python 3 environment comes with many helpful analytics libraries installed\n",
    "# It is defined by the kaggle/python Docker image: https://github.com/kaggle/docker-python\n",
    "# For example, here's several helpful packages to load\n",
    "import os\n",
    "print(os.getcwd())\n",
    "import numpy as np # linear algebra\n",
    "import pandas as pd # data processing, CSV file I/O (e.g. pd.read_csv)\n",
    "df = pd.read_csv(r\"datasets\\dataset - KBO.csv\")\n"
   ]
  },
  {
   "cell_type": "code",
   "execution_count": 5,
   "metadata": {},
   "outputs": [],
   "source": [
    "df_totals = pd.DataFrame(columns=['Streak Total' ,'Quantity Over', 'Quantity Under'])\n",
    "for i in range(16):\n",
    "    df_totals = df_totals.append({'Streak Total': i,'Quantity Over': 0, 'Quantity Under': 0},ignore_index=True )\n",
    "    \n",
    "def check_under(under):\n",
    "    if under > 0 :\n",
    "        df_totals[\"Quantity Under\"][under] = df_totals[\"Quantity Under\"][under] + 1\n",
    "        \n",
    "def check_over(over):\n",
    "    if over > 0 :\n",
    "        df_totals[\"Quantity Over\"][over] = df_totals[\"Quantity Over\"][over] + 1"
   ]
  },
  {
   "cell_type": "code",
   "execution_count": 6,
   "metadata": {},
   "outputs": [
    {
     "name": "stdout",
     "output_type": "stream",
     "text": [
      "Home Wins: 143.0->  %54.37\n",
      "Away Wins: 120.0->  %45.63\n",
      "Total Games: 263.0\n"
     ]
    }
   ],
   "source": [
    "import matplotlib.pyplot as plt\n",
    "home = df[['home_team', 'score_home', 'score_away']].copy()\n",
    "#columns = ['home_team','score_home','score_away']\n",
    "#df1 = pd.DataFrame(df, columns=columns)\n",
    "home_wins = 0 \n",
    "away_wins = 0 \n",
    "total_games = 0 \n",
    "for i,j in home.iterrows():\n",
    "    team = j[0]\n",
    "    home = j[1]\n",
    "    away = j[2]\n",
    "    if home > away:\n",
    "        home_wins += 1.0\n",
    "    else:\n",
    "        away_wins += 1.0\n",
    "total = (home_wins + away_wins)\n",
    "perc = round(home_wins/total*100, 2)\n",
    "print(\"Home Wins: \" + str(home_wins) + \"->  %\" +  str(perc))\n",
    "print(\"Away Wins: \"+ str(away_wins) + \"->  %\" +  str(100-perc))\n",
    "print(\"Total Games: \" + str(total))\n",
    "\n"
   ]
  },
  {
   "cell_type": "code",
   "execution_count": 7,
   "metadata": {},
   "outputs": [
    {
     "data": {
      "image/png": "[encoded data removed]",
      "text/plain": [
       "<Figure size 640x480 with 1 Axes>"
      ]
     },
     "metadata": {},
     "output_type": "display_data"
    }
   ],
   "source": [
    "import matplotlib.pyplot as plt; plt.rcdefaults()\n",
    "\n",
    "objects = ('Home', 'Away')\n",
    "y_pos = np.arange(len(objects))\n",
    "performance = [home_wins,away_wins]\n",
    "\n",
    "plt.bar(y_pos, performance, align='center', alpha=0.5)\n",
    "plt.xticks(y_pos, objects)\n",
    "plt.ylabel('Usage')\n",
    "plt.title('Home vs Away')\n",
    "\n",
    "plt.show()"
   ]
  },
  {
   "cell_type": "markdown",
   "metadata": {},
   "source": [
    "## Overs & Unders"
   ]
  },
  {
   "cell_type": "code",
   "execution_count": 8,
   "metadata": {},
   "outputs": [],
   "source": [
    "totals = df[['home_team','away_team', 'total_line']].copy()\n",
    "over = 0\n",
    "under = 0\n",
    "total = 0\n",
    "\n",
    "\n",
    "team_stats={}\n",
    "league_stats={}\n",
    "\n",
    "league_stats = {'winning': {1:0,2:0,3:0,4:0,5:0,6:0,7:0,8:0,9:0,10:0},\n",
    "                'losing': {1:0,2:0,3:0,4:0,5:0,6:0,7:0,8:0,9:0,10:0},\n",
    "                'over': {1:0,2:0,3:0,4:0,5:0,6:0,7:0,8:0,9:0,10:0},\n",
    "                'under': {1:0,2:0,3:0,4:0,5:0,6:0,7:0,8:0,9:0,10:0}\n",
    "               }\n",
    "\n",
    "\n",
    "for i in totals.home_team.unique():\n",
    "    team_stats[i] = {\n",
    "                'totals': {'over': 0, 'under': 0 },\n",
    "                'moneyline' : {'win':0, 'lost': 0},\n",
    "                'streak_ml' : {'win':0, 'lost': 0},\n",
    "                'streak_total' : {'over':0, 'under': 0}}\n",
    "    \n",
    "\n",
    "for i in totals.away_team.unique():\n",
    "    if i not in team_stats:\n",
    "        team_stats[i] = {\n",
    "                    'totals': {'over': 0, 'under': 0 },\n",
    "                    'moneyline' : {'win':0, 'lost': 0},\n",
    "                    'streak_ml' : {'win':0, 'lost': 0},\n",
    "                    'streak_total' : {'over':0, 'under': 0}\n",
    "        }\n"
   ]
  },
  {
   "cell_type": "code",
   "execution_count": 9,
   "metadata": {},
   "outputs": [],
   "source": [
    "# iterate through each row and select  \n",
    "# 'Name' and 'Stream' column respectively. \n",
    "\n",
    "#totals logic \n",
    "for ind in df.index: \n",
    "\n",
    "    total_result = df['score_home'][ind] + df['score_away'][ind]\n",
    "    if (total_result > df['total_line'][ind]):\n",
    "\n",
    "        \n",
    "        team_stats[df['home_team'][ind]]['totals']['over']+=1\n",
    "        team_stats[df['away_team'][ind]]['totals']['over']+=1\n",
    "        team_stats[df['home_team'][ind]]['streak_total']['over']+=1\n",
    "        team_stats[df['away_team'][ind]]['streak_total']['over']+=1\n",
    "        \n",
    "        \n",
    "        check_under(team_stats[df['home_team'][ind]]['streak_total']['under'])\n",
    "        check_under(team_stats[df['away_team'][ind]]['streak_total']['under'])\n",
    "        \n",
    "        \n",
    "        \n",
    "        team_stats[df['home_team'][ind]]['streak_total']['under'] = 0\n",
    "        team_stats[df['away_team'][ind]]['streak_total']['under'] = 0\n",
    "        \n",
    "        \n",
    "                \n",
    "        league_stats['over'][team_stats[df['home_team'][ind]]['streak_total']['over']] += 1\n",
    "            \n",
    "    if ( df['total_line'][ind] > total_result):\n",
    "        team_stats[df['home_team'][ind]]['totals']['under']+=1\n",
    "        team_stats[df['away_team'][ind]]['totals']['under']+=1\n",
    "        team_stats[df['home_team'][ind]]['streak_total']['under']+=1\n",
    "        team_stats[df['away_team'][ind]]['streak_total']['under']+=1\n",
    "        \n",
    "        check_over(team_stats[df['home_team'][ind]]['streak_total']['over'])\n",
    "        check_over(team_stats[df['away_team'][ind]]['streak_total']['over'])\n",
    "        \n",
    "        team_stats[df['home_team'][ind]]['streak_total']['over'] = 0\n",
    "        team_stats[df['away_team'][ind]]['streak_total']['over'] = 0\n",
    "            \n",
    "        league_stats['under'][team_stats[df['home_team'][ind]]['streak_total']['under']] += 1\n",
    "        \n",
    "    \n",
    "        \n",
    "\n",
    "    "
   ]
  },
  {
   "cell_type": "code",
   "execution_count": 10,
   "metadata": {},
   "outputs": [],
   "source": [
    "# iterate through each row and select  \n",
    "# 'Name' and 'Stream' column respectively. \n",
    "\n",
    "#moneyline logic\n",
    "for ind in df.index: \n",
    "    \n",
    "    \n",
    "\n",
    "    if df['score_home'][ind]  > df['score_away'][ind] :\n",
    "        team_stats[df['home_team'][ind]]['moneyline']['win']+=1\n",
    "        team_stats[df['home_team'][ind]]['streak_ml']['win'] += 1\n",
    "        team_stats[df['home_team'][ind]]['streak_ml']['lost'] = 0\n",
    "        \n",
    "        team_stats[df['away_team'][ind]]['moneyline']['lost']+=1\n",
    "        team_stats[df['away_team'][ind]]['streak_ml']['lost']+= 1\n",
    "        team_stats[df['away_team'][ind]]['streak_ml']['win'] = 0\n",
    "        \n",
    "    if (df['score_home'][ind]  < df['score_away'][ind]) :\n",
    "        \n",
    "        team_stats[df['away_team'][ind]]['moneyline']['win']+=1\n",
    "        team_stats[df['away_team'][ind]]['streak_ml']['win'] += 1\n",
    "        team_stats[df['away_team'][ind]]['streak_ml']['lost'] = 0\n",
    "        \n",
    "        team_stats[df['home_team'][ind]]['moneyline']['lost']+=1\n",
    "        team_stats[df['home_team'][ind]]['streak_ml']['lost']+= 1\n",
    "        team_stats[df['home_team'][ind]]['streak_ml']['win'] = 0\n",
    " \n",
    "        \n"
   ]
  },
  {
   "cell_type": "code",
   "execution_count": 11,
   "metadata": {},
   "outputs": [
    {
     "data": {
      "text/plain": [
       "{'totals': {'over': 30, 'under': 23},\n",
       " 'moneyline': {'win': 31, 'lost': 22},\n",
       " 'streak_ml': {'win': 1, 'lost': 0},\n",
       " 'streak_total': {'over': 1, 'under': 0}}"
      ]
     },
     "execution_count": 11,
     "metadata": {},
     "output_type": "execute_result"
    }
   ],
   "source": [
    "team_stats['Doosan Bears']"
   ]
  },
  {
   "cell_type": "code",
   "execution_count": 12,
   "metadata": {},
   "outputs": [],
   "source": [
    "dict_team=sorted(team_stats.keys(), key=lambda x:x.lower())\n",
    "#idx = df.apply(lambda ts: any(ts == 'SK Wyverns'), axis=1)\n",
    "#print(df[idx])"
   ]
  },
  {
   "cell_type": "code",
   "execution_count": 13,
   "metadata": {},
   "outputs": [
    {
     "data": {
      "text/html": [
       "<div>\n",
       "<style scoped>\n",
       "    .dataframe tbody tr th:only-of-type {\n",
       "        vertical-align: middle;\n",
       "    }\n",
       "\n",
       "    .dataframe tbody tr th {\n",
       "        vertical-align: top;\n",
       "    }\n",
       "\n",
       "    .dataframe thead th {\n",
       "        text-align: right;\n",
       "    }\n",
       "</style>\n",
       "<table border=\"1\" class=\"dataframe\">\n",
       "  <thead>\n",
       "    <tr style=\"text-align: right;\">\n",
       "      <th></th>\n",
       "      <th>Streak Total</th>\n",
       "      <th>Quantity Over</th>\n",
       "      <th>Quantity Under</th>\n",
       "    </tr>\n",
       "  </thead>\n",
       "  <tbody>\n",
       "    <tr>\n",
       "      <th>0</th>\n",
       "      <td>0</td>\n",
       "      <td>0</td>\n",
       "      <td>0</td>\n",
       "    </tr>\n",
       "    <tr>\n",
       "      <th>1</th>\n",
       "      <td>1</td>\n",
       "      <td>63</td>\n",
       "      <td>61</td>\n",
       "    </tr>\n",
       "    <tr>\n",
       "      <th>2</th>\n",
       "      <td>2</td>\n",
       "      <td>32</td>\n",
       "      <td>38</td>\n",
       "    </tr>\n",
       "    <tr>\n",
       "      <th>3</th>\n",
       "      <td>3</td>\n",
       "      <td>15</td>\n",
       "      <td>13</td>\n",
       "    </tr>\n",
       "    <tr>\n",
       "      <th>4</th>\n",
       "      <td>4</td>\n",
       "      <td>8</td>\n",
       "      <td>7</td>\n",
       "    </tr>\n",
       "    <tr>\n",
       "      <th>5</th>\n",
       "      <td>5</td>\n",
       "      <td>5</td>\n",
       "      <td>5</td>\n",
       "    </tr>\n",
       "    <tr>\n",
       "      <th>6</th>\n",
       "      <td>6</td>\n",
       "      <td>2</td>\n",
       "      <td>1</td>\n",
       "    </tr>\n",
       "    <tr>\n",
       "      <th>7</th>\n",
       "      <td>7</td>\n",
       "      <td>0</td>\n",
       "      <td>3</td>\n",
       "    </tr>\n",
       "    <tr>\n",
       "      <th>8</th>\n",
       "      <td>8</td>\n",
       "      <td>0</td>\n",
       "      <td>0</td>\n",
       "    </tr>\n",
       "    <tr>\n",
       "      <th>9</th>\n",
       "      <td>9</td>\n",
       "      <td>1</td>\n",
       "      <td>0</td>\n",
       "    </tr>\n",
       "  </tbody>\n",
       "</table>\n",
       "</div>"
      ],
      "text/plain": [
       "  Streak Total Quantity Over Quantity Under\n",
       "0            0             0              0\n",
       "1            1            63             61\n",
       "2            2            32             38\n",
       "3            3            15             13\n",
       "4            4             8              7\n",
       "5            5             5              5\n",
       "6            6             2              1\n",
       "7            7             0              3\n",
       "8            8             0              0\n",
       "9            9             1              0"
      ]
     },
     "execution_count": 13,
     "metadata": {},
     "output_type": "execute_result"
    }
   ],
   "source": [
    "df_totals.head(10)"
   ]
  },
  {
   "cell_type": "code",
   "execution_count": 18,
   "metadata": {},
   "outputs": [],
   "source": [
    "df_ml_trends = pd.DataFrame(columns = ['Team', 'MoneyLine Record', 'Cover %', 'Streak Win', 'Streak Loss'])\n",
    "df_total_trends = pd.DataFrame( columns = ['Team', 'Total Record', 'Over %', 'Streak Over', 'Streak Under'])\n",
    "\n",
    "for i in dict_team:\n",
    "    df_ml_trends = df_ml_trends.append({'Team': i,\n",
    "                                          'MoneyLine Record': str(team_stats[i]['moneyline']['win']) + '-' + str(team_stats[i]['moneyline']['lost']),\n",
    "                                          'Cover %' : team_stats[i]['moneyline']['win'] / (team_stats[i]['moneyline']['win'] + team_stats[i]['moneyline']['lost']),\n",
    "                                          'Streak Win': team_stats[i]['streak_ml']['win'],\n",
    "                                          'Streak Loss': team_stats[i]['streak_ml']['lost']},ignore_index=True )\n",
    "    \n",
    "\n",
    "    df_total_trends = df_total_trends.append({'Team': i,\n",
    "                                          'Total Record': str(team_stats[i]['totals']['over']) + '-' + str(team_stats[i]['totals']['under']),\n",
    "                                          'Over %' : team_stats[i]['totals']['over'] / (team_stats[i]['totals']['over'] + team_stats[i]['totals']['under']),\n",
    "                                          'Streak Over': team_stats[i]['streak_total']['over'],\n",
    "                                          'Streak Under': team_stats[i]['streak_total']['under']},ignore_index=True )\n",
    "    \n",
    "        \n",
    "df = df_totals[(df_totals.T != 0).any()]\n",
    "\n"
   ]
  },
  {
   "cell_type": "code",
   "execution_count": 19,
   "metadata": {},
   "outputs": [
    {
     "data": {
      "text/html": [
       "<div>\n",
       "<style scoped>\n",
       "    .dataframe tbody tr th:only-of-type {\n",
       "        vertical-align: middle;\n",
       "    }\n",
       "\n",
       "    .dataframe tbody tr th {\n",
       "        vertical-align: top;\n",
       "    }\n",
       "\n",
       "    .dataframe thead th {\n",
       "        text-align: right;\n",
       "    }\n",
       "</style>\n",
       "<table border=\"1\" class=\"dataframe\">\n",
       "  <thead>\n",
       "    <tr style=\"text-align: right;\">\n",
       "      <th></th>\n",
       "      <th>Team</th>\n",
       "      <th>MoneyLine Record</th>\n",
       "      <th>Cover %</th>\n",
       "      <th>Streak Win</th>\n",
       "      <th>Streak Loss</th>\n",
       "    </tr>\n",
       "  </thead>\n",
       "  <tbody>\n",
       "    <tr>\n",
       "      <th>0</th>\n",
       "      <td>Doosan Bears</td>\n",
       "      <td>31-22</td>\n",
       "      <td>0.584906</td>\n",
       "      <td>1</td>\n",
       "      <td>0</td>\n",
       "    </tr>\n",
       "    <tr>\n",
       "      <th>1</th>\n",
       "      <td>Hanwha Eagles</td>\n",
       "      <td>13-40</td>\n",
       "      <td>0.245283</td>\n",
       "      <td>0</td>\n",
       "      <td>1</td>\n",
       "    </tr>\n",
       "    <tr>\n",
       "      <th>2</th>\n",
       "      <td>Kia Tigers</td>\n",
       "      <td>27-23</td>\n",
       "      <td>0.540000</td>\n",
       "      <td>0</td>\n",
       "      <td>2</td>\n",
       "    </tr>\n",
       "    <tr>\n",
       "      <th>3</th>\n",
       "      <td>Kiwoom Heroes</td>\n",
       "      <td>33-21</td>\n",
       "      <td>0.611111</td>\n",
       "      <td>0</td>\n",
       "      <td>1</td>\n",
       "    </tr>\n",
       "    <tr>\n",
       "      <th>4</th>\n",
       "      <td>KT Wiz Suwon</td>\n",
       "      <td>25-28</td>\n",
       "      <td>0.471698</td>\n",
       "      <td>1</td>\n",
       "      <td>0</td>\n",
       "    </tr>\n",
       "    <tr>\n",
       "      <th>5</th>\n",
       "      <td>LG Twins</td>\n",
       "      <td>29-24</td>\n",
       "      <td>0.547170</td>\n",
       "      <td>1</td>\n",
       "      <td>0</td>\n",
       "    </tr>\n",
       "    <tr>\n",
       "      <th>6</th>\n",
       "      <td>Lotte Giants</td>\n",
       "      <td>24-27</td>\n",
       "      <td>0.470588</td>\n",
       "      <td>0</td>\n",
       "      <td>1</td>\n",
       "    </tr>\n",
       "    <tr>\n",
       "      <th>7</th>\n",
       "      <td>NC Dinos</td>\n",
       "      <td>36-16</td>\n",
       "      <td>0.692308</td>\n",
       "      <td>2</td>\n",
       "      <td>0</td>\n",
       "    </tr>\n",
       "    <tr>\n",
       "      <th>8</th>\n",
       "      <td>Samsung Lions</td>\n",
       "      <td>29-25</td>\n",
       "      <td>0.537037</td>\n",
       "      <td>0</td>\n",
       "      <td>1</td>\n",
       "    </tr>\n",
       "    <tr>\n",
       "      <th>9</th>\n",
       "      <td>SK Wyverns</td>\n",
       "      <td>16-37</td>\n",
       "      <td>0.301887</td>\n",
       "      <td>1</td>\n",
       "      <td>0</td>\n",
       "    </tr>\n",
       "  </tbody>\n",
       "</table>\n",
       "</div>"
      ],
      "text/plain": [
       "            Team MoneyLine Record   Cover % Streak Win Streak Loss\n",
       "0   Doosan Bears            31-22  0.584906          1           0\n",
       "1  Hanwha Eagles            13-40  0.245283          0           1\n",
       "2     Kia Tigers            27-23  0.540000          0           2\n",
       "3  Kiwoom Heroes            33-21  0.611111          0           1\n",
       "4   KT Wiz Suwon            25-28  0.471698          1           0\n",
       "5       LG Twins            29-24  0.547170          1           0\n",
       "6   Lotte Giants            24-27  0.470588          0           1\n",
       "7       NC Dinos            36-16  0.692308          2           0\n",
       "8  Samsung Lions            29-25  0.537037          0           1\n",
       "9     SK Wyverns            16-37  0.301887          1           0"
      ]
     },
     "execution_count": 19,
     "metadata": {},
     "output_type": "execute_result"
    }
   ],
   "source": [
    "df_ml_trends"
   ]
  },
  {
   "cell_type": "code",
   "execution_count": 20,
   "metadata": {},
   "outputs": [
    {
     "data": {
      "text/html": [
       "<div>\n",
       "<style scoped>\n",
       "    .dataframe tbody tr th:only-of-type {\n",
       "        vertical-align: middle;\n",
       "    }\n",
       "\n",
       "    .dataframe tbody tr th {\n",
       "        vertical-align: top;\n",
       "    }\n",
       "\n",
       "    .dataframe thead th {\n",
       "        text-align: right;\n",
       "    }\n",
       "</style>\n",
       "<table border=\"1\" class=\"dataframe\">\n",
       "  <thead>\n",
       "    <tr style=\"text-align: right;\">\n",
       "      <th></th>\n",
       "      <th>Team</th>\n",
       "      <th>Total Record</th>\n",
       "      <th>Over %</th>\n",
       "      <th>Streak Over</th>\n",
       "      <th>Streak Under</th>\n",
       "    </tr>\n",
       "  </thead>\n",
       "  <tbody>\n",
       "    <tr>\n",
       "      <th>0</th>\n",
       "      <td>Doosan Bears</td>\n",
       "      <td>30-23</td>\n",
       "      <td>0.566038</td>\n",
       "      <td>1</td>\n",
       "      <td>0</td>\n",
       "    </tr>\n",
       "    <tr>\n",
       "      <th>1</th>\n",
       "      <td>Hanwha Eagles</td>\n",
       "      <td>24-29</td>\n",
       "      <td>0.452830</td>\n",
       "      <td>1</td>\n",
       "      <td>0</td>\n",
       "    </tr>\n",
       "    <tr>\n",
       "      <th>2</th>\n",
       "      <td>Kia Tigers</td>\n",
       "      <td>24-26</td>\n",
       "      <td>0.480000</td>\n",
       "      <td>2</td>\n",
       "      <td>0</td>\n",
       "    </tr>\n",
       "    <tr>\n",
       "      <th>3</th>\n",
       "      <td>Kiwoom Heroes</td>\n",
       "      <td>28-26</td>\n",
       "      <td>0.518519</td>\n",
       "      <td>2</td>\n",
       "      <td>0</td>\n",
       "    </tr>\n",
       "    <tr>\n",
       "      <th>4</th>\n",
       "      <td>KT Wiz Suwon</td>\n",
       "      <td>29-24</td>\n",
       "      <td>0.547170</td>\n",
       "      <td>2</td>\n",
       "      <td>0</td>\n",
       "    </tr>\n",
       "    <tr>\n",
       "      <th>5</th>\n",
       "      <td>LG Twins</td>\n",
       "      <td>26-27</td>\n",
       "      <td>0.490566</td>\n",
       "      <td>3</td>\n",
       "      <td>0</td>\n",
       "    </tr>\n",
       "    <tr>\n",
       "      <th>6</th>\n",
       "      <td>Lotte Giants</td>\n",
       "      <td>25-26</td>\n",
       "      <td>0.490196</td>\n",
       "      <td>0</td>\n",
       "      <td>1</td>\n",
       "    </tr>\n",
       "    <tr>\n",
       "      <th>7</th>\n",
       "      <td>NC Dinos</td>\n",
       "      <td>29-22</td>\n",
       "      <td>0.568627</td>\n",
       "      <td>2</td>\n",
       "      <td>0</td>\n",
       "    </tr>\n",
       "    <tr>\n",
       "      <th>8</th>\n",
       "      <td>Samsung Lions</td>\n",
       "      <td>28-26</td>\n",
       "      <td>0.518519</td>\n",
       "      <td>3</td>\n",
       "      <td>0</td>\n",
       "    </tr>\n",
       "    <tr>\n",
       "      <th>9</th>\n",
       "      <td>SK Wyverns</td>\n",
       "      <td>23-29</td>\n",
       "      <td>0.442308</td>\n",
       "      <td>0</td>\n",
       "      <td>1</td>\n",
       "    </tr>\n",
       "  </tbody>\n",
       "</table>\n",
       "</div>"
      ],
      "text/plain": [
       "            Team Total Record    Over % Streak Over Streak Under\n",
       "0   Doosan Bears        30-23  0.566038           1            0\n",
       "1  Hanwha Eagles        24-29  0.452830           1            0\n",
       "2     Kia Tigers        24-26  0.480000           2            0\n",
       "3  Kiwoom Heroes        28-26  0.518519           2            0\n",
       "4   KT Wiz Suwon        29-24  0.547170           2            0\n",
       "5       LG Twins        26-27  0.490566           3            0\n",
       "6   Lotte Giants        25-26  0.490196           0            1\n",
       "7       NC Dinos        29-22  0.568627           2            0\n",
       "8  Samsung Lions        28-26  0.518519           3            0\n",
       "9     SK Wyverns        23-29  0.442308           0            1"
      ]
     },
     "execution_count": 20,
     "metadata": {},
     "output_type": "execute_result"
    }
   ],
   "source": [
    "df_total_trends"
   ]
  },
  {
   "cell_type": "code",
   "execution_count": 21,
   "metadata": {},
   "outputs": [
    {
     "data": {
      "text/plain": [
       "<matplotlib.axes._subplots.AxesSubplot at 0x21f214367c8>"
      ]
     },
     "execution_count": 21,
     "metadata": {},
     "output_type": "execute_result"
    },
    {
     "data": {
      "image/png": "[encoded data removed]",
      "text/plain": [
       "<Figure size 640x480 with 1 Axes>"
      ]
     },
     "metadata": {},
     "output_type": "display_data"
    }
   ],
   "source": [
    "df['Quantity Over'].plot()"
   ]
  },
  {
   "cell_type": "code",
   "execution_count": 22,
   "metadata": {},
   "outputs": [
    {
     "data": {
      "text/plain": [
       "<matplotlib.axes._subplots.AxesSubplot at 0x21f2165a888>"
      ]
     },
     "execution_count": 22,
     "metadata": {},
     "output_type": "execute_result"
    },
    {
     "data": {
      "image/png": "[encoded data removed]",
      "text/plain": [
       "<Figure size 640x480 with 1 Axes>"
      ]
     },
     "metadata": {},
     "output_type": "display_data"
    }
   ],
   "source": [
    "df['Quantity Under'].plot()"
   ]
  },
  {
   "cell_type": "markdown",
   "metadata": {},
   "source": [
    "\n",
    "    "
   ]
  }
 ],
 "metadata": {
  "kernelspec": {
   "display_name": "Python 3",
   "language": "python",
   "name": "python3"
  },
  "language_info": {
   "codemirror_mode": {
    "name": "ipython",
    "version": 3
   },
   "file_extension": ".py",
   "mimetype": "text/x-python",
   "name": "python",
   "nbconvert_exporter": "python",
   "pygments_lexer": "ipython3",
   "version": "3.7.6"
  }
 },
 "nbformat": 4,
 "nbformat_minor": 4
}
