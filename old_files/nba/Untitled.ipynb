{
 "cells": [
  {
   "cell_type": "code",
   "execution_count": 2,
   "metadata": {},
   "outputs": [
    {
     "name": "stdout",
     "output_type": "stream",
     "text": [
      "dict_values([160, 73, 33, 23, 5, 6, 1, 1, 0, 0, 0])\n",
      "O1 160\n",
      "O2 73\n",
      "O3 33\n",
      "O4 23\n",
      "O5 5\n",
      "O6 6\n",
      "O7 1\n",
      "O8 1\n",
      "O9 0\n",
      "O10 0\n",
      "O11 0\n"
     ]
    }
   ],
   "source": [
    "def fileHandling(someFile):\n",
    "    with open(someFile) as f:\n",
    "        lines = f.read().splitlines()\n",
    "        return lines\n",
    "\n",
    "\n",
    "def updateDictionaryOvers(streak):\n",
    "    dictionaryOvers['O' + streak] += 1\n",
    "\n",
    "\n",
    "def updateDictionaryUnders(streak):\n",
    "    dictionaryUnders['U' + streak] += 1\n",
    "\n",
    "\n",
    "def getStreaksOvers(data):\n",
    "    for strings in data:\n",
    "        streak = 0\n",
    "        for char in strings:\n",
    "            if char == 'O':\n",
    "                streak += 1\n",
    "            else:\n",
    "                if streak > 0:\n",
    "                    updateDictionaryOvers(str(streak))\n",
    "                    streak = 0\n",
    "\n",
    "\n",
    "def getStreaksUnders(data):\n",
    "    for i in range(1, len(data), 2):\n",
    "        streak = 0\n",
    "        for char in data[i]:\n",
    "            if char == 'U':\n",
    "                streak += 1\n",
    "            else:\n",
    "                if streak > 0:\n",
    "                    updateDictionaryUnders(str(streak))\n",
    "                    streak = 0\n",
    "\n",
    "\n",
    "def startOvers():\n",
    "    file = 'nba_totals.txt'\n",
    "    file = fileHandling(file)\n",
    "    getStreaksOvers(file)\n",
    "\n",
    "\n",
    "def startUnders():\n",
    "    file = 'nba_totals.txt'\n",
    "    file = fileHandling(file)\n",
    "    getStreaksUnders(file)\n",
    "\n",
    "\n",
    "dictionaryOvers = dict.fromkeys(\n",
    "    ['O1', 'O2', 'O3', 'O4', 'O5', 'O6', 'O7', 'O8', 'O9', 'O10', 'O11'])\n",
    "dictionaryOvers = dict.fromkeys(dictionaryOvers, 0)\n",
    "\n",
    "dictionaryUnders = dict.fromkeys(\n",
    "    ['U1', 'U2', 'U3', 'U4', 'U5', 'U6', 'U7', 'U8', 'U9', 'U10', 'U11'])\n",
    "dictionaryUnders = dict.fromkeys(dictionaryUnders, 0)\n",
    "\n",
    "\n",
    "startOvers()\n",
    "startUnders()\n",
    "\n",
    "print(dictionaryOvers.values())\n",
    "# print(dictionaryUnders)\n",
    "\n",
    "for k,v in dictionaryOvers.items():\n",
    "    print(k,v)"
   ]
  },
  {
   "cell_type": "code",
   "execution_count": null,
   "metadata": {},
   "outputs": [],
   "source": []
  }
 ],
 "metadata": {
  "kernelspec": {
   "display_name": "Python 3",
   "language": "python",
   "name": "python3"
  },
  "language_info": {
   "codemirror_mode": {
    "name": "ipython",
    "version": 3
   },
   "file_extension": ".py",
   "mimetype": "text/x-python",
   "name": "python",
   "nbconvert_exporter": "python",
   "pygments_lexer": "ipython3",
   "version": "3.7.6"
  }
 },
 "nbformat": 4,
 "nbformat_minor": 4
}
